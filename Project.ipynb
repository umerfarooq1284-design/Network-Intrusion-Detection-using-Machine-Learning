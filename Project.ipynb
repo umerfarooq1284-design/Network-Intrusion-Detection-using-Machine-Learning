{
  "nbformat": 4,
  "nbformat_minor": 0,
  "metadata": {
    "colab": {
      "provenance": []
    },
    "kernelspec": {
      "name": "python3",
      "display_name": "Python 3"
    },
    "language_info": {
      "name": "python"
    }
  },
  "cells": [
    {
      "cell_type": "markdown",
      "source": [
        "**Libraries**"
      ],
      "metadata": {
        "id": "Jt2qPIK-p8PE"
      }
    },
    {
      "cell_type": "code",
      "execution_count": 17,
      "metadata": {
        "id": "9DalILWypc29"
      },
      "outputs": [],
      "source": [
        "\n",
        "import pandas as pd          # Data handling\n",
        "import numpy as np           # Numerical operations\n",
        "\n",
        "# Preprocessing & splitting\n",
        "from sklearn.model_selection import train_test_split\n",
        "from sklearn.preprocessing import LabelEncoder, StandardScaler\n",
        "\n",
        "# Machine Learning model\n",
        "from sklearn.ensemble import RandomForestClassifier\n",
        "\n",
        "# Evaluation metrics\n",
        "from sklearn.metrics import accuracy_score, classification_report, confusion_matrix\n",
        "\n",
        "import matplotlib.pyplot as plt\n",
        "import seaborn as sns\n",
        "from sklearn.metrics import confusion_matrix\n",
        "from sklearn.metrics import precision_recall_fscore_support"
      ]
    },
    {
      "cell_type": "code",
      "source": [
        "df = pd.read_csv(\"Friday-WorkingHours-Afternoon-DDos.pcap_ISCX.csv\")\n",
        "\n",
        "# Display dataset shape and first few rows\n",
        "print(\"Dataset shape:\", df.shape)\n",
        "df.head()"
      ],
      "metadata": {
        "colab": {
          "base_uri": "https://localhost:8080/",
          "height": 481
        },
        "id": "dzJCoEKwp5P4",
        "outputId": "ec6947b1-fc38-4a87-d56b-861b69424c0e"
      },
      "execution_count": 6,
      "outputs": [
        {
          "output_type": "stream",
          "name": "stdout",
          "text": [
            "Dataset shape: (40064, 85)\n"
          ]
        },
        {
          "output_type": "execute_result",
          "data": {
            "text/plain": [
              "                                   Flow ID       Source IP   Source Port  \\\n",
              "0  192.168.10.5-104.16.207.165-54865-443-6  104.16.207.165           443   \n",
              "1    192.168.10.5-104.16.28.216-55054-80-6   104.16.28.216            80   \n",
              "2    192.168.10.5-104.16.28.216-55055-80-6   104.16.28.216            80   \n",
              "3  192.168.10.16-104.17.241.25-46236-443-6   104.17.241.25           443   \n",
              "4  192.168.10.5-104.19.196.102-54863-443-6  104.19.196.102           443   \n",
              "\n",
              "   Destination IP   Destination Port   Protocol      Timestamp  \\\n",
              "0    192.168.10.5              54865          6  7/7/2017 3:30   \n",
              "1    192.168.10.5              55054          6  7/7/2017 3:30   \n",
              "2    192.168.10.5              55055          6  7/7/2017 3:30   \n",
              "3   192.168.10.16              46236          6  7/7/2017 3:30   \n",
              "4    192.168.10.5              54863          6  7/7/2017 3:30   \n",
              "\n",
              "    Flow Duration   Total Fwd Packets   Total Backward Packets  ...  \\\n",
              "0               3                   2                        0  ...   \n",
              "1             109                   1                        1  ...   \n",
              "2              52                   1                        1  ...   \n",
              "3              34                   1                        1  ...   \n",
              "4               3                   2                        0  ...   \n",
              "\n",
              "    min_seg_size_forward  Active Mean   Active Std   Active Max   Active Min  \\\n",
              "0                   20.0          0.0          0.0          0.0          0.0   \n",
              "1                   20.0          0.0          0.0          0.0          0.0   \n",
              "2                   20.0          0.0          0.0          0.0          0.0   \n",
              "3                   20.0          0.0          0.0          0.0          0.0   \n",
              "4                   20.0          0.0          0.0          0.0          0.0   \n",
              "\n",
              "   Idle Mean   Idle Std   Idle Max   Idle Min   Label  \n",
              "0        0.0        0.0        0.0        0.0  BENIGN  \n",
              "1        0.0        0.0        0.0        0.0  BENIGN  \n",
              "2        0.0        0.0        0.0        0.0  BENIGN  \n",
              "3        0.0        0.0        0.0        0.0  BENIGN  \n",
              "4        0.0        0.0        0.0        0.0  BENIGN  \n",
              "\n",
              "[5 rows x 85 columns]"
            ],
            "text/html": [
              "\n",
              "  <div id=\"df-5ba9ef03-5851-4d7f-ab83-218ad7326c43\" class=\"colab-df-container\">\n",
              "    <div>\n",
              "<style scoped>\n",
              "    .dataframe tbody tr th:only-of-type {\n",
              "        vertical-align: middle;\n",
              "    }\n",
              "\n",
              "    .dataframe tbody tr th {\n",
              "        vertical-align: top;\n",
              "    }\n",
              "\n",
              "    .dataframe thead th {\n",
              "        text-align: right;\n",
              "    }\n",
              "</style>\n",
              "<table border=\"1\" class=\"dataframe\">\n",
              "  <thead>\n",
              "    <tr style=\"text-align: right;\">\n",
              "      <th></th>\n",
              "      <th>Flow ID</th>\n",
              "      <th>Source IP</th>\n",
              "      <th>Source Port</th>\n",
              "      <th>Destination IP</th>\n",
              "      <th>Destination Port</th>\n",
              "      <th>Protocol</th>\n",
              "      <th>Timestamp</th>\n",
              "      <th>Flow Duration</th>\n",
              "      <th>Total Fwd Packets</th>\n",
              "      <th>Total Backward Packets</th>\n",
              "      <th>...</th>\n",
              "      <th>min_seg_size_forward</th>\n",
              "      <th>Active Mean</th>\n",
              "      <th>Active Std</th>\n",
              "      <th>Active Max</th>\n",
              "      <th>Active Min</th>\n",
              "      <th>Idle Mean</th>\n",
              "      <th>Idle Std</th>\n",
              "      <th>Idle Max</th>\n",
              "      <th>Idle Min</th>\n",
              "      <th>Label</th>\n",
              "    </tr>\n",
              "  </thead>\n",
              "  <tbody>\n",
              "    <tr>\n",
              "      <th>0</th>\n",
              "      <td>192.168.10.5-104.16.207.165-54865-443-6</td>\n",
              "      <td>104.16.207.165</td>\n",
              "      <td>443</td>\n",
              "      <td>192.168.10.5</td>\n",
              "      <td>54865</td>\n",
              "      <td>6</td>\n",
              "      <td>7/7/2017 3:30</td>\n",
              "      <td>3</td>\n",
              "      <td>2</td>\n",
              "      <td>0</td>\n",
              "      <td>...</td>\n",
              "      <td>20.0</td>\n",
              "      <td>0.0</td>\n",
              "      <td>0.0</td>\n",
              "      <td>0.0</td>\n",
              "      <td>0.0</td>\n",
              "      <td>0.0</td>\n",
              "      <td>0.0</td>\n",
              "      <td>0.0</td>\n",
              "      <td>0.0</td>\n",
              "      <td>BENIGN</td>\n",
              "    </tr>\n",
              "    <tr>\n",
              "      <th>1</th>\n",
              "      <td>192.168.10.5-104.16.28.216-55054-80-6</td>\n",
              "      <td>104.16.28.216</td>\n",
              "      <td>80</td>\n",
              "      <td>192.168.10.5</td>\n",
              "      <td>55054</td>\n",
              "      <td>6</td>\n",
              "      <td>7/7/2017 3:30</td>\n",
              "      <td>109</td>\n",
              "      <td>1</td>\n",
              "      <td>1</td>\n",
              "      <td>...</td>\n",
              "      <td>20.0</td>\n",
              "      <td>0.0</td>\n",
              "      <td>0.0</td>\n",
              "      <td>0.0</td>\n",
              "      <td>0.0</td>\n",
              "      <td>0.0</td>\n",
              "      <td>0.0</td>\n",
              "      <td>0.0</td>\n",
              "      <td>0.0</td>\n",
              "      <td>BENIGN</td>\n",
              "    </tr>\n",
              "    <tr>\n",
              "      <th>2</th>\n",
              "      <td>192.168.10.5-104.16.28.216-55055-80-6</td>\n",
              "      <td>104.16.28.216</td>\n",
              "      <td>80</td>\n",
              "      <td>192.168.10.5</td>\n",
              "      <td>55055</td>\n",
              "      <td>6</td>\n",
              "      <td>7/7/2017 3:30</td>\n",
              "      <td>52</td>\n",
              "      <td>1</td>\n",
              "      <td>1</td>\n",
              "      <td>...</td>\n",
              "      <td>20.0</td>\n",
              "      <td>0.0</td>\n",
              "      <td>0.0</td>\n",
              "      <td>0.0</td>\n",
              "      <td>0.0</td>\n",
              "      <td>0.0</td>\n",
              "      <td>0.0</td>\n",
              "      <td>0.0</td>\n",
              "      <td>0.0</td>\n",
              "      <td>BENIGN</td>\n",
              "    </tr>\n",
              "    <tr>\n",
              "      <th>3</th>\n",
              "      <td>192.168.10.16-104.17.241.25-46236-443-6</td>\n",
              "      <td>104.17.241.25</td>\n",
              "      <td>443</td>\n",
              "      <td>192.168.10.16</td>\n",
              "      <td>46236</td>\n",
              "      <td>6</td>\n",
              "      <td>7/7/2017 3:30</td>\n",
              "      <td>34</td>\n",
              "      <td>1</td>\n",
              "      <td>1</td>\n",
              "      <td>...</td>\n",
              "      <td>20.0</td>\n",
              "      <td>0.0</td>\n",
              "      <td>0.0</td>\n",
              "      <td>0.0</td>\n",
              "      <td>0.0</td>\n",
              "      <td>0.0</td>\n",
              "      <td>0.0</td>\n",
              "      <td>0.0</td>\n",
              "      <td>0.0</td>\n",
              "      <td>BENIGN</td>\n",
              "    </tr>\n",
              "    <tr>\n",
              "      <th>4</th>\n",
              "      <td>192.168.10.5-104.19.196.102-54863-443-6</td>\n",
              "      <td>104.19.196.102</td>\n",
              "      <td>443</td>\n",
              "      <td>192.168.10.5</td>\n",
              "      <td>54863</td>\n",
              "      <td>6</td>\n",
              "      <td>7/7/2017 3:30</td>\n",
              "      <td>3</td>\n",
              "      <td>2</td>\n",
              "      <td>0</td>\n",
              "      <td>...</td>\n",
              "      <td>20.0</td>\n",
              "      <td>0.0</td>\n",
              "      <td>0.0</td>\n",
              "      <td>0.0</td>\n",
              "      <td>0.0</td>\n",
              "      <td>0.0</td>\n",
              "      <td>0.0</td>\n",
              "      <td>0.0</td>\n",
              "      <td>0.0</td>\n",
              "      <td>BENIGN</td>\n",
              "    </tr>\n",
              "  </tbody>\n",
              "</table>\n",
              "<p>5 rows × 85 columns</p>\n",
              "</div>\n",
              "    <div class=\"colab-df-buttons\">\n",
              "\n",
              "  <div class=\"colab-df-container\">\n",
              "    <button class=\"colab-df-convert\" onclick=\"convertToInteractive('df-5ba9ef03-5851-4d7f-ab83-218ad7326c43')\"\n",
              "            title=\"Convert this dataframe to an interactive table.\"\n",
              "            style=\"display:none;\">\n",
              "\n",
              "  <svg xmlns=\"http://www.w3.org/2000/svg\" height=\"24px\" viewBox=\"0 -960 960 960\">\n",
              "    <path d=\"M120-120v-720h720v720H120Zm60-500h600v-160H180v160Zm220 220h160v-160H400v160Zm0 220h160v-160H400v160ZM180-400h160v-160H180v160Zm440 0h160v-160H620v160ZM180-180h160v-160H180v160Zm440 0h160v-160H620v160Z\"/>\n",
              "  </svg>\n",
              "    </button>\n",
              "\n",
              "  <style>\n",
              "    .colab-df-container {\n",
              "      display:flex;\n",
              "      gap: 12px;\n",
              "    }\n",
              "\n",
              "    .colab-df-convert {\n",
              "      background-color: #E8F0FE;\n",
              "      border: none;\n",
              "      border-radius: 50%;\n",
              "      cursor: pointer;\n",
              "      display: none;\n",
              "      fill: #1967D2;\n",
              "      height: 32px;\n",
              "      padding: 0 0 0 0;\n",
              "      width: 32px;\n",
              "    }\n",
              "\n",
              "    .colab-df-convert:hover {\n",
              "      background-color: #E2EBFA;\n",
              "      box-shadow: 0px 1px 2px rgba(60, 64, 67, 0.3), 0px 1px 3px 1px rgba(60, 64, 67, 0.15);\n",
              "      fill: #174EA6;\n",
              "    }\n",
              "\n",
              "    .colab-df-buttons div {\n",
              "      margin-bottom: 4px;\n",
              "    }\n",
              "\n",
              "    [theme=dark] .colab-df-convert {\n",
              "      background-color: #3B4455;\n",
              "      fill: #D2E3FC;\n",
              "    }\n",
              "\n",
              "    [theme=dark] .colab-df-convert:hover {\n",
              "      background-color: #434B5C;\n",
              "      box-shadow: 0px 1px 3px 1px rgba(0, 0, 0, 0.15);\n",
              "      filter: drop-shadow(0px 1px 2px rgba(0, 0, 0, 0.3));\n",
              "      fill: #FFFFFF;\n",
              "    }\n",
              "  </style>\n",
              "\n",
              "    <script>\n",
              "      const buttonEl =\n",
              "        document.querySelector('#df-5ba9ef03-5851-4d7f-ab83-218ad7326c43 button.colab-df-convert');\n",
              "      buttonEl.style.display =\n",
              "        google.colab.kernel.accessAllowed ? 'block' : 'none';\n",
              "\n",
              "      async function convertToInteractive(key) {\n",
              "        const element = document.querySelector('#df-5ba9ef03-5851-4d7f-ab83-218ad7326c43');\n",
              "        const dataTable =\n",
              "          await google.colab.kernel.invokeFunction('convertToInteractive',\n",
              "                                                    [key], {});\n",
              "        if (!dataTable) return;\n",
              "\n",
              "        const docLinkHtml = 'Like what you see? Visit the ' +\n",
              "          '<a target=\"_blank\" href=https://colab.research.google.com/notebooks/data_table.ipynb>data table notebook</a>'\n",
              "          + ' to learn more about interactive tables.';\n",
              "        element.innerHTML = '';\n",
              "        dataTable['output_type'] = 'display_data';\n",
              "        await google.colab.output.renderOutput(dataTable, element);\n",
              "        const docLink = document.createElement('div');\n",
              "        docLink.innerHTML = docLinkHtml;\n",
              "        element.appendChild(docLink);\n",
              "      }\n",
              "    </script>\n",
              "  </div>\n",
              "\n",
              "\n",
              "    <div id=\"df-2950c8e1-01f1-4d4b-a9c0-8a16fdef3244\">\n",
              "      <button class=\"colab-df-quickchart\" onclick=\"quickchart('df-2950c8e1-01f1-4d4b-a9c0-8a16fdef3244')\"\n",
              "                title=\"Suggest charts\"\n",
              "                style=\"display:none;\">\n",
              "\n",
              "<svg xmlns=\"http://www.w3.org/2000/svg\" height=\"24px\"viewBox=\"0 0 24 24\"\n",
              "     width=\"24px\">\n",
              "    <g>\n",
              "        <path d=\"M19 3H5c-1.1 0-2 .9-2 2v14c0 1.1.9 2 2 2h14c1.1 0 2-.9 2-2V5c0-1.1-.9-2-2-2zM9 17H7v-7h2v7zm4 0h-2V7h2v10zm4 0h-2v-4h2v4z\"/>\n",
              "    </g>\n",
              "</svg>\n",
              "      </button>\n",
              "\n",
              "<style>\n",
              "  .colab-df-quickchart {\n",
              "      --bg-color: #E8F0FE;\n",
              "      --fill-color: #1967D2;\n",
              "      --hover-bg-color: #E2EBFA;\n",
              "      --hover-fill-color: #174EA6;\n",
              "      --disabled-fill-color: #AAA;\n",
              "      --disabled-bg-color: #DDD;\n",
              "  }\n",
              "\n",
              "  [theme=dark] .colab-df-quickchart {\n",
              "      --bg-color: #3B4455;\n",
              "      --fill-color: #D2E3FC;\n",
              "      --hover-bg-color: #434B5C;\n",
              "      --hover-fill-color: #FFFFFF;\n",
              "      --disabled-bg-color: #3B4455;\n",
              "      --disabled-fill-color: #666;\n",
              "  }\n",
              "\n",
              "  .colab-df-quickchart {\n",
              "    background-color: var(--bg-color);\n",
              "    border: none;\n",
              "    border-radius: 50%;\n",
              "    cursor: pointer;\n",
              "    display: none;\n",
              "    fill: var(--fill-color);\n",
              "    height: 32px;\n",
              "    padding: 0;\n",
              "    width: 32px;\n",
              "  }\n",
              "\n",
              "  .colab-df-quickchart:hover {\n",
              "    background-color: var(--hover-bg-color);\n",
              "    box-shadow: 0 1px 2px rgba(60, 64, 67, 0.3), 0 1px 3px 1px rgba(60, 64, 67, 0.15);\n",
              "    fill: var(--button-hover-fill-color);\n",
              "  }\n",
              "\n",
              "  .colab-df-quickchart-complete:disabled,\n",
              "  .colab-df-quickchart-complete:disabled:hover {\n",
              "    background-color: var(--disabled-bg-color);\n",
              "    fill: var(--disabled-fill-color);\n",
              "    box-shadow: none;\n",
              "  }\n",
              "\n",
              "  .colab-df-spinner {\n",
              "    border: 2px solid var(--fill-color);\n",
              "    border-color: transparent;\n",
              "    border-bottom-color: var(--fill-color);\n",
              "    animation:\n",
              "      spin 1s steps(1) infinite;\n",
              "  }\n",
              "\n",
              "  @keyframes spin {\n",
              "    0% {\n",
              "      border-color: transparent;\n",
              "      border-bottom-color: var(--fill-color);\n",
              "      border-left-color: var(--fill-color);\n",
              "    }\n",
              "    20% {\n",
              "      border-color: transparent;\n",
              "      border-left-color: var(--fill-color);\n",
              "      border-top-color: var(--fill-color);\n",
              "    }\n",
              "    30% {\n",
              "      border-color: transparent;\n",
              "      border-left-color: var(--fill-color);\n",
              "      border-top-color: var(--fill-color);\n",
              "      border-right-color: var(--fill-color);\n",
              "    }\n",
              "    40% {\n",
              "      border-color: transparent;\n",
              "      border-right-color: var(--fill-color);\n",
              "      border-top-color: var(--fill-color);\n",
              "    }\n",
              "    60% {\n",
              "      border-color: transparent;\n",
              "      border-right-color: var(--fill-color);\n",
              "    }\n",
              "    80% {\n",
              "      border-color: transparent;\n",
              "      border-right-color: var(--fill-color);\n",
              "      border-bottom-color: var(--fill-color);\n",
              "    }\n",
              "    90% {\n",
              "      border-color: transparent;\n",
              "      border-bottom-color: var(--fill-color);\n",
              "    }\n",
              "  }\n",
              "</style>\n",
              "\n",
              "      <script>\n",
              "        async function quickchart(key) {\n",
              "          const quickchartButtonEl =\n",
              "            document.querySelector('#' + key + ' button');\n",
              "          quickchartButtonEl.disabled = true;  // To prevent multiple clicks.\n",
              "          quickchartButtonEl.classList.add('colab-df-spinner');\n",
              "          try {\n",
              "            const charts = await google.colab.kernel.invokeFunction(\n",
              "                'suggestCharts', [key], {});\n",
              "          } catch (error) {\n",
              "            console.error('Error during call to suggestCharts:', error);\n",
              "          }\n",
              "          quickchartButtonEl.classList.remove('colab-df-spinner');\n",
              "          quickchartButtonEl.classList.add('colab-df-quickchart-complete');\n",
              "        }\n",
              "        (() => {\n",
              "          let quickchartButtonEl =\n",
              "            document.querySelector('#df-2950c8e1-01f1-4d4b-a9c0-8a16fdef3244 button');\n",
              "          quickchartButtonEl.style.display =\n",
              "            google.colab.kernel.accessAllowed ? 'block' : 'none';\n",
              "        })();\n",
              "      </script>\n",
              "    </div>\n",
              "\n",
              "    </div>\n",
              "  </div>\n"
            ],
            "application/vnd.google.colaboratory.intrinsic+json": {
              "type": "dataframe",
              "variable_name": "df"
            }
          },
          "metadata": {},
          "execution_count": 6
        }
      ]
    },
    {
      "cell_type": "markdown",
      "source": [
        "**Data Cleaning**"
      ],
      "metadata": {
        "id": "OVnTgCKZrNfB"
      }
    },
    {
      "cell_type": "code",
      "source": [
        "# -------------------------------\n",
        "# Step 3 (Fix): Data Cleaning & Preprocessing\n",
        "# -------------------------------\n",
        "\n",
        "# Ensure column names have no spaces\n",
        "df.columns = df.columns.str.strip()\n",
        "\n",
        "# Drop non-numeric / ID columns\n",
        "drop_cols = [\"Flow ID\", \"Source IP\", \"Destination IP\", \"Timestamp\"]\n",
        "df = df.drop(columns=drop_cols, errors='ignore')\n",
        "\n",
        "# Replace inf/-inf with NaN and drop missing values\n",
        "df = df.replace([np.inf, -np.inf], np.nan)\n",
        "df = df.dropna()\n",
        "\n",
        "print(\"Dataset shape after cleaning:\", df.shape)\n",
        "\n",
        "# ✅ Now 'Label' should exist properly\n",
        "print(\"Columns available:\", df.columns[-10:])  # show last 10 columns for check\n",
        "\n",
        "# Separate features and target\n",
        "X = df.drop(\"Label\", axis=1)\n",
        "y = df[\"Label\"]\n",
        "\n",
        "# Encode labels\n",
        "from sklearn.preprocessing import LabelEncoder, StandardScaler\n",
        "le = LabelEncoder()\n",
        "y = le.fit_transform(y)\n",
        "\n",
        "# Scale numeric features\n",
        "scaler = StandardScaler()\n",
        "X_scaled = scaler.fit_transform(X)\n",
        "\n",
        "print(\"Features shape:\", X_scaled.shape)\n",
        "print(\"Labels shape:\", y.shape)\n"
      ],
      "metadata": {
        "colab": {
          "base_uri": "https://localhost:8080/",
          "height": 0
        },
        "id": "RBQIGfm0rRwM",
        "outputId": "fada48cf-adc7-4ead-a542-554db06b7676"
      },
      "execution_count": 27,
      "outputs": [
        {
          "output_type": "stream",
          "name": "stdout",
          "text": [
            "Dataset shape after cleaning: (40050, 81)\n",
            "Columns available: Index(['min_seg_size_forward', 'Active Mean', 'Active Std', 'Active Max',\n",
            "       'Active Min', 'Idle Mean', 'Idle Std', 'Idle Max', 'Idle Min', 'Label'],\n",
            "      dtype='object')\n",
            "Features shape: (40050, 80)\n",
            "Labels shape: (40050,)\n"
          ]
        }
      ]
    },
    {
      "cell_type": "markdown",
      "source": [
        "**Train-test split (80/20)**"
      ],
      "metadata": {
        "id": "V62erLkxsWbu"
      }
    },
    {
      "cell_type": "code",
      "source": [
        "# Split into training (80%) and testing (20%)\n",
        "X_train, X_test, y_train, y_test = train_test_split(\n",
        "    X_scaled, y, test_size=0.2, random_state=42, stratify=y\n",
        ")\n",
        "\n",
        "print(\"Training set size:\", X_train.shape[0])\n",
        "print(\"Testing set size:\", X_test.shape[0])\n"
      ],
      "metadata": {
        "colab": {
          "base_uri": "https://localhost:8080/",
          "height": 0
        },
        "id": "SEmmWbVfsvKq",
        "outputId": "a6c95e2d-77e2-42ee-ce24-95cbd30cb407"
      },
      "execution_count": 8,
      "outputs": [
        {
          "output_type": "stream",
          "name": "stdout",
          "text": [
            "Training set size: 32040\n",
            "Testing set size: 8010\n"
          ]
        }
      ]
    },
    {
      "cell_type": "markdown",
      "source": [
        "**Training**"
      ],
      "metadata": {
        "id": "Oe9D2zOAtFrr"
      }
    },
    {
      "cell_type": "code",
      "source": [
        "# Initialize Random Forest\n",
        "rf = RandomForestClassifier(\n",
        "    n_estimators=100,   # number of trees\n",
        "    random_state=42,    # reproducibility\n",
        "    n_jobs=-1           # use all CPU cores for speed\n",
        ")\n",
        "\n",
        "# Train the model\n",
        "rf.fit(X_train, y_train)\n",
        "\n",
        "print(\"Random Forest training complete\")\n"
      ],
      "metadata": {
        "colab": {
          "base_uri": "https://localhost:8080/",
          "height": 0
        },
        "id": "UhUoL3qntKUE",
        "outputId": "6c956c98-a80d-4d86-8499-1ec686526e91"
      },
      "execution_count": 9,
      "outputs": [
        {
          "output_type": "stream",
          "name": "stdout",
          "text": [
            "Random Forest training complete\n"
          ]
        }
      ]
    },
    {
      "cell_type": "markdown",
      "source": [
        "Prediction and Evaluation"
      ],
      "metadata": {
        "id": "wkk6vhc3t_aI"
      }
    },
    {
      "cell_type": "code",
      "source": [
        "# Make predictions\n",
        "y_pred = rf.predict(X_test)\n",
        "\n",
        "# Accuracy\n",
        "acc = accuracy_score(y_test, y_pred)\n",
        "print(f\"✅ Model Accuracy: {acc*100:.2f}%\\n\")\n",
        "\n",
        "# Class distribution\n",
        "print(\"Class distribution in dataset:\")\n",
        "print(df[\"Label\"].value_counts(), \"\\n\")\n",
        "\n",
        "# Classification Report (Precision, Recall, F1)\n",
        "print(\"Classification Report:\\n\")\n",
        "print(classification_report(y_test, y_pred, target_names=le.classes_))\n"
      ],
      "metadata": {
        "colab": {
          "base_uri": "https://localhost:8080/",
          "height": 0
        },
        "id": "8rUj5Ky8tj4u",
        "outputId": "d0c28fca-33ac-466a-c7fe-d11f8a5abe3f"
      },
      "execution_count": 10,
      "outputs": [
        {
          "output_type": "stream",
          "name": "stdout",
          "text": [
            "✅ Model Accuracy: 99.94%\n",
            "\n",
            "Class distribution in dataset:\n",
            "Label\n",
            "BENIGN    22792\n",
            "DDoS      17258\n",
            "Name: count, dtype: int64 \n",
            "\n",
            "Classification Report:\n",
            "\n",
            "              precision    recall  f1-score   support\n",
            "\n",
            "      BENIGN       1.00      1.00      1.00      4558\n",
            "        DDoS       1.00      1.00      1.00      3452\n",
            "\n",
            "    accuracy                           1.00      8010\n",
            "   macro avg       1.00      1.00      1.00      8010\n",
            "weighted avg       1.00      1.00      1.00      8010\n",
            "\n"
          ]
        }
      ]
    },
    {
      "cell_type": "markdown",
      "source": [
        "**Confusion Matrix Visualization**"
      ],
      "metadata": {
        "id": "A5jAQc-tviab"
      }
    },
    {
      "cell_type": "code",
      "source": [
        "# Compute confusion matrix\n",
        "cm = confusion_matrix(y_test, y_pred)\n",
        "\n",
        "# Plot heatmap\n",
        "plt.figure(figsize=(8,6))\n",
        "sns.heatmap(cm, annot=True, fmt=\"d\", cmap=\"Blues\",\n",
        "            xticklabels=le.classes_,\n",
        "            yticklabels=le.classes_)\n",
        "\n",
        "plt.xlabel(\"Predicted Label\")\n",
        "plt.ylabel(\"True Label\")\n",
        "plt.title(\"Confusion Matrix - Random Forest (CICIDS2017)\")\n",
        "plt.show()"
      ],
      "metadata": {
        "colab": {
          "base_uri": "https://localhost:8080/",
          "height": 564
        },
        "id": "TgVzZDwwvotU",
        "outputId": "7272d836-1244-4168-8d24-9542c7984af1"
      },
      "execution_count": 11,
      "outputs": [
        {
          "output_type": "display_data",
          "data": {
            "text/plain": [
              "<Figure size 800x600 with 2 Axes>"
            ],
            "image/png": "[encoded data removed]"
          },
          "metadata": {}
        }
      ]
    },
    {
      "cell_type": "markdown",
      "source": [
        "------------------------------------------------------------------------------------------------------------------------------------------------------------------------------------------------------------------------------------------------"
      ],
      "metadata": {
        "id": "_AJlVxgRftp3"
      }
    },
    {
      "cell_type": "markdown",
      "source": [
        "**XG BOOST**"
      ],
      "metadata": {
        "id": "paar_3ZEdEh1"
      }
    },
    {
      "cell_type": "code",
      "source": [
        "# ==============================\n",
        "# Step 1: Import XGBoost\n",
        "# ==============================\n",
        "\n",
        "import xgboost as xgb\n"
      ],
      "metadata": {
        "id": "LwpNKH0Tdknd"
      },
      "execution_count": 1,
      "outputs": []
    },
    {
      "cell_type": "markdown",
      "source": [
        "**Initialize the Model**"
      ],
      "metadata": {
        "id": "twwYzsd5ejV7"
      }
    },
    {
      "cell_type": "code",
      "source": [
        "# Create an XGBoost Classifier instance\n",
        "# n_estimators = number of decision trees\n",
        "# For demonstration, we use 10 (fast execution), but in real projects use higher (100–500+)\n",
        "xg = xgb.XGBClassifier(n_estimators=10)"
      ],
      "metadata": {
        "id": "YcZWtM0Zeiwa"
      },
      "execution_count": 2,
      "outputs": []
    },
    {
      "cell_type": "markdown",
      "source": [
        "**Train the Model**"
      ],
      "metadata": {
        "id": "hK7dghi3ey_E"
      }
    },
    {
      "cell_type": "code",
      "source": [
        "# Train model on training data\n",
        "xg.fit(X_train, y_train)\n",
        "print(\"XG boost training complete\")"
      ],
      "metadata": {
        "colab": {
          "base_uri": "https://localhost:8080/",
          "height": 0
        },
        "id": "0ZzP4DSke3w1",
        "outputId": "1a151697-4a64-4f7a-fa23-06a6c555121a"
      },
      "execution_count": 22,
      "outputs": [
        {
          "output_type": "stream",
          "name": "stdout",
          "text": [
            "XG boost training complete\n"
          ]
        }
      ]
    },
    {
      "cell_type": "markdown",
      "source": [
        "**Accuracy Evaluation**"
      ],
      "metadata": {
        "id": "prgQfEt-e_Iu"
      }
    },
    {
      "cell_type": "code",
      "source": [
        "# Evaluate accuracy on the test dataset\n",
        "xg_score = xg.score(X_test, y_test)\n",
        "print(\"Accuracy of XGBoost: \" + str(xg_score))"
      ],
      "metadata": {
        "colab": {
          "base_uri": "https://localhost:8080/",
          "height": 0
        },
        "id": "ud_Ay6HufEW5",
        "outputId": "bca9beb5-4846-4cab-82c1-f33aa9a3dde5"
      },
      "execution_count": 13,
      "outputs": [
        {
          "output_type": "stream",
          "name": "stdout",
          "text": [
            "Accuracy of XGBoost: 0.9992509363295881\n"
          ]
        }
      ]
    },
    {
      "cell_type": "markdown",
      "source": [
        "**Predictions**"
      ],
      "metadata": {
        "id": "bNoWkS5FfIe2"
      }
    },
    {
      "cell_type": "code",
      "source": [
        "# Predict test labels\n",
        "y_predict = xg.predict(X_test)\n",
        "\n",
        "# Store true labels\n",
        "y_true = y_test"
      ],
      "metadata": {
        "id": "zHeIg2lgfNuI"
      },
      "execution_count": 14,
      "outputs": []
    },
    {
      "cell_type": "markdown",
      "source": [
        "**Precision, Recall, F1-score**"
      ],
      "metadata": {
        "id": "BDqOj78UfSGb"
      }
    },
    {
      "cell_type": "code",
      "source": [
        "precision, recall, fscore, _ = precision_recall_fscore_support(\n",
        "    y_true, y_predict, average='weighted'\n",
        ")\n",
        "\n",
        "print(\"Precision of XGBoost: \" + str(precision))\n",
        "print(\"Recall of XGBoost: \" + str(recall))\n",
        "print(\"F1-score of XGBoost: \" + str(fscore))\n",
        "\n",
        "# Detailed metrics per class\n",
        "print(classification_report(y_true, y_predict))"
      ],
      "metadata": {
        "colab": {
          "base_uri": "https://localhost:8080/",
          "height": 0
        },
        "id": "Qlx5tL-ufWsQ",
        "outputId": "db932653-c50d-4ef1-c3ea-30e366e5242f"
      },
      "execution_count": 18,
      "outputs": [
        {
          "output_type": "stream",
          "name": "stdout",
          "text": [
            "Precision of XGBoost: 0.9992509363295881\n",
            "Recall of XGBoost: 0.9992509363295881\n",
            "F1-score of XGBoost: 0.9992509363295881\n",
            "              precision    recall  f1-score   support\n",
            "\n",
            "           0       1.00      1.00      1.00      4558\n",
            "           1       1.00      1.00      1.00      3452\n",
            "\n",
            "    accuracy                           1.00      8010\n",
            "   macro avg       1.00      1.00      1.00      8010\n",
            "weighted avg       1.00      1.00      1.00      8010\n",
            "\n"
          ]
        }
      ]
    },
    {
      "cell_type": "markdown",
      "source": [
        "**Confusion Matrix**"
      ],
      "metadata": {
        "id": "EQ_SbnIFfcsa"
      }
    },
    {
      "cell_type": "code",
      "source": [
        "f, ax = plt.subplots(figsize=(5, 5))\n",
        "sns.heatmap(cm, annot=True, linewidth=0.5, linecolor=\"red\", fmt=\".0f\", ax=ax)\n",
        "plt.xlabel(\"Predicted Labels (y_pred)\")\n",
        "plt.ylabel(\"True Labels (y_true)\")\n",
        "plt.title(\"Confusion Matrix - XGBoost IDS\")\n",
        "plt.show()"
      ],
      "metadata": {
        "colab": {
          "base_uri": "https://localhost:8080/",
          "height": 487
        },
        "id": "T9D1ZLEEfmki",
        "outputId": "2abdab27-fbf4-45c4-aab9-eb875861495c"
      },
      "execution_count": 37,
      "outputs": [
        {
          "output_type": "display_data",
          "data": {
            "text/plain": [
              "<Figure size 500x500 with 2 Axes>"
            ],
            "image/png": "[encoded data removed]"
          },
          "metadata": {}
        }
      ]
    },
    {
      "cell_type": "markdown",
      "source": [
        "---------------------------------------------------------------------------------------------------------------\n"
      ],
      "metadata": {
        "id": "HELyMYBSl_D9"
      }
    },
    {
      "cell_type": "markdown",
      "source": [
        "**LightGBM**"
      ],
      "metadata": {
        "id": "L3xrcL9TmCA7"
      }
    },
    {
      "cell_type": "markdown",
      "source": [
        "**LIBRARIES**"
      ],
      "metadata": {
        "id": "9piiDJBPmHW0"
      }
    },
    {
      "cell_type": "code",
      "source": [
        "# Import only LightGBM\n",
        "import lightgbm as lgb\n"
      ],
      "metadata": {
        "id": "MgylwcYxmBcp"
      },
      "execution_count": 28,
      "outputs": []
    },
    {
      "cell_type": "markdown",
      "source": [
        "**Train LightGBM Model**"
      ],
      "metadata": {
        "id": "ppmCKCPKmYlc"
      }
    },
    {
      "cell_type": "code",
      "source": [
        "# Define LightGBM classifier with silent mode enabled\n",
        "lgb_clf = lgb.LGBMClassifier(\n",
        "    n_estimators=200,\n",
        "    learning_rate=0.1,\n",
        "    max_depth=-1,\n",
        "    num_leaves=64,\n",
        "    objective='binary',\n",
        "    random_state=42,\n",
        "    verbosity=-1   # <- this suppresses internal logs\n",
        ")\n",
        "\n",
        "# Train the model (no verbose param needed here)\n",
        "lgb_clf.fit(\n",
        "    X_train, y_train,\n",
        "    eval_set=[(X_test, y_test)],\n",
        "    callbacks=[lgb.log_evaluation(0)]  # <- disables eval logging\n",
        ")\n",
        "print(\"LightGBM training complete\")"
      ],
      "metadata": {
        "colab": {
          "base_uri": "https://localhost:8080/",
          "height": 0
        },
        "id": "Xz_P__WXmfFd",
        "outputId": "527d456e-3ec9-4a1b-ca80-f913ac26156e"
      },
      "execution_count": 36,
      "outputs": [
        {
          "output_type": "stream",
          "name": "stdout",
          "text": [
            "LightGBM training complete\n"
          ]
        }
      ]
    },
    {
      "cell_type": "markdown",
      "source": [
        "**Evaluate Model**"
      ],
      "metadata": {
        "id": "wzXPBJ3tmh8n"
      }
    },
    {
      "cell_type": "code",
      "source": [
        "# Predictions\n",
        "y_pred = lgb_clf.predict(X_test)\n",
        "\n",
        "# Accuracy\n",
        "acc = accuracy_score(y_test, y_pred) * 100\n",
        "print(f\"Accuracy of LightGBM: {acc:.2f}%\")\n",
        "\n",
        "# Precision, Recall, F1\n",
        "precision, recall, fscore, _ = precision_recall_fscore_support(y_test, y_pred, average='weighted')\n",
        "print(f\"Precision: {precision * 100:.2f}%\")\n",
        "print(f\"Recall: {recall * 100:.2f}%\")\n",
        "print(f\"F1-score: {fscore * 100:.2f}%\")\n",
        "\n",
        "# Classification Report\n",
        "print(\"\\nClassification Report:\\n\", classification_report(y_test, y_pred))\n",
        "\n",
        "# Confusion Matrix\n",
        "cm = confusion_matrix(y_test, y_pred)\n",
        "plt.figure(figsize=(5,5))\n",
        "sns.heatmap(cm, annot=True, fmt=\"d\", cmap=\"Blues\", cbar=False)\n",
        "plt.xlabel(\"Predicted\")\n",
        "plt.ylabel(\"Actual\")\n",
        "plt.title(\"LightGBM Confusion Matrix\")\n",
        "plt.show()\n"
      ],
      "metadata": {
        "colab": {
          "base_uri": "https://localhost:8080/",
          "height": 802
        },
        "id": "B6wZhPpvmlpw",
        "outputId": "fc0b773f-a01e-42b1-ac0a-1dad94f15313"
      },
      "execution_count": 35,
      "outputs": [
        {
          "output_type": "stream",
          "name": "stdout",
          "text": [
            "Accuracy of LightGBM: 100.00%\n",
            "Precision: 100.00%\n",
            "Recall: 100.00%\n",
            "F1-score: 100.00%\n",
            "\n",
            "Classification Report:\n",
            "               precision    recall  f1-score   support\n",
            "\n",
            "           0       1.00      1.00      1.00      4558\n",
            "           1       1.00      1.00      1.00      3452\n",
            "\n",
            "    accuracy                           1.00      8010\n",
            "   macro avg       1.00      1.00      1.00      8010\n",
            "weighted avg       1.00      1.00      1.00      8010\n",
            "\n"
          ]
        },
        {
          "output_type": "stream",
          "name": "stderr",
          "text": [
            "/usr/local/lib/python3.12/dist-packages/sklearn/utils/validation.py:2739: UserWarning: X does not have valid feature names, but LGBMClassifier was fitted with feature names\n",
            "  warnings.warn(\n"
          ]
        },
        {
          "output_type": "display_data",
          "data": {
            "text/plain": [
              "<Figure size 500x500 with 1 Axes>"
            ],
            "image/png": "[encoded data removed]"
          },
          "metadata": {}
        }
      ]
    }
  ]
}